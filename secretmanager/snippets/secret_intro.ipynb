{
 "cells": [
  {
   "cell_type": "markdown",
   "id": "28fb3454",
   "metadata": {},
   "source": [
    "# Introduction to Secret Manager\n",
    "\n",
    "TODO(glasnt): write secret intro"
   ]
  },
  {
   "cell_type": "markdown",
   "id": "1fbaf44f",
   "metadata": {},
   "source": [
    "## Before you begin\n",
    "\n",
    "1. [Enable the Secret Manager API](https://cloud.google.com/secret-manager/docs/configuring-secret-manager)\n",
    "1. Set up authentication\n",
    "   * TODO(glasnt): details\n",
    "\n",
    "## Required roles\n",
    "\n",
    "TODO(glasnt): `roles/secretmanager.admin`\n",
    "\n",
    "## Install dependencies"
   ]
  },
  {
   "cell_type": "code",
   "execution_count": null,
   "id": "fa2c0cb5",
   "metadata": {
    "vscode": {
     "languageId": "shellscript"
    }
   },
   "outputs": [],
   "source": [
    "%%capture\n",
    "%pip install google-cloud-secret-manager"
   ]
  },
  {
   "cell_type": "markdown",
   "id": "ea877cf5",
   "metadata": {},
   "source": [
    "## Create a secret"
   ]
  },
  {
   "cell_type": "code",
   "execution_count": null,
   "id": "21414ea1",
   "metadata": {},
   "outputs": [],
   "source": [
    "# [START secret_create_secret_notebook]\n",
    "from google.cloud import secretmanager\n",
    "\n",
    "project_id = \"PROJECT_ID\"\n",
    "secret_id = \"SECRET_ID\"\n",
    "\n",
    "client = secretmanager.SecretManagerServiceClient()\n",
    "response = client.create_secret(\n",
    "    parent=f\"projects/{project_id}\",\n",
    "    secret_id=secret_id,\n",
    "    secret={\"replication\": {\"automatic\": {}}},\n",
    ")\n",
    "\n",
    "print(f\"Created secret: {response.name}\")\n",
    "# [END secret_create_secret_notebook]"
   ]
  },
  {
   "cell_type": "markdown",
   "id": "2ba37c38",
   "metadata": {},
   "source": [
    "## Dev Notes\n",
    "\n",
    "* `# @param {type:\"string\"}` only works for Google Colabs. "
   ]
  }
 ],
 "metadata": {
  "language_info": {
   "name": "python"
  }
 },
 "nbformat": 4,
 "nbformat_minor": 5
}
