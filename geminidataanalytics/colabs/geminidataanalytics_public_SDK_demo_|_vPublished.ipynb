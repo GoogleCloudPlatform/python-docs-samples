{
  "nbformat": 4,
  "nbformat_minor": 0,
  "metadata": {
    "colab": {
      "provenance": [],
      "collapsed_sections": [
        "zeTjBav-oSMO",
        "XMudfdzZPnWa",
        "xMjbfg7YUnTc",
        "CsiZmq5lOppv",
        "ylFsFh_vX6IK",
        "74T2_BksYBxI"
      ],
      "include_colab_link": true
    },
    "kernelspec": {
      "name": "python3",
      "display_name": "Python 3"
    },
    "language_info": {
      "name": "python"
    }
  },
  "cells": [
    {
      "cell_type": "markdown",
      "metadata": {
        "id": "view-in-github",
        "colab_type": "text"
      },
      "source": [
        "<a href=\"https://colab.research.google.com/github/vermaAstra/python-docs-samples/blob/main/geminidataanalytics/colabs/geminidataanalytics_public_SDK_demo_%7C_vPublished.ipynb\" target=\"_parent\"><img src=\"https://colab.research.google.com/assets/colab-badge.svg\" alt=\"Open In Colab\"/></a>"
      ]
    },
    {
      "cell_type": "markdown",
      "source": [
        "# Copyright 2025 Google LLC.\n",
        "# SPDX-License-Identifier: Apache-2.0"
      ],
      "metadata": {
        "id": "a5p22IaOKNPu"
      }
    },
    {
      "cell_type": "code",
      "source": [
        "# @title Licensed under the Apache License, Version 2.0 (the \"License\");\n",
        "# you may not use this file except in compliance with the License.\n",
        "# You may obtain a copy of the License at\n",
        "#\n",
        "# https://www.apache.org/licenses/LICENSE-2.0\n",
        "#\n",
        "# Unless required by applicable law or agreed to in writing, software\n",
        "# distributed under the License is distributed on an \"AS IS\" BASIS,\n",
        "# WITHOUT WARRANTIES OR CONDITIONS OF ANY KIND, either express or implied.\n",
        "# See the License for the specific language governing permissions and\n",
        "# limitations under the License."
      ],
      "metadata": {
        "id": "LUi4gYAeKS9W"
      },
      "execution_count": null,
      "outputs": []
    },
    {
      "cell_type": "markdown",
      "source": [
        "# Background and Overview\n",
        "The **Conversational Analytics API** lets you chat with your BigQuery or Looker data anywhere, including embedded Looker dashboards, Slack and other chat apps, or even your own web applications. Your team members can get answers where they need them, when they need them, in the applications they use every day. You can find the [Colab example with the Python SDK here](https://colab.sandbox.google.com/drive/1UF1I4ZGU662R74vbNwk-wtmVWpQl107h?resourcekey=0-vQ8nXlhIpj87G65FbkjG8A#scrollTo=gBy8t2OiR73i).\n",
        "\n",
        "Please provide feedback to conversational-analytics-api-feedback@google.com\n",
        "\n",
        "This notebook will help you\n",
        "1. Setting up the SDK\n",
        "2. Authenticate to GCP\n",
        "3. Add data\n",
        "3. Perform agent operations (create, list, get, delete)\n",
        "4. Manage conversations (create, list, get)\n",
        "5. Ask questions with your agent"
      ],
      "metadata": {
        "id": "rCxXUPdGTOSC"
      }
    },
    {
      "cell_type": "markdown",
      "source": [
        "## Disclaimers\n",
        "- Please **make a copy** of this notebook. Do not edit it directly\n",
        "- This is a **Pre-GA** product. See [documentation](https://cloud.google.com/gemini/docs/conversational-analytics-api/overview) for more details.\n",
        "- This product is currently under allowlist and not publicly available. Please contact your account team if you have questions."
      ],
      "metadata": {
        "id": "gBy8t2OiR73i"
      }
    },
    {
      "cell_type": "markdown",
      "source": [
        "\n",
        "## API Enablement\n",
        "\n",
        "**Please fill in the billing_project form field with your own GCP project.  The project must have the following APIs enabled:**\n",
        "-  [cloudaicompanion API](https://console.cloud.google.com/apis/library/cloudaicompanion.googleapis.com)\n",
        "-  [Gemini Data Analytics API](https://console.cloud.google.com/apis/library/geminidataanalytics.googleapis.com)\n",
        "-  [BQ API](https://console.cloud.google.com/marketplace/product/google/bigquery.googleapis.com)\n",
        "-  [Dataform API](https://console.cloud.google.com/apis/library/dataform.googleapis.com)\n",
        "- [Vertex AI API](https://console.cloud.google.com/apis/library/aiplatform.googleapis.com)\n",
        "\n",
        "You may pass in any BigQuery project/dataset/table for which you have read permissions.\n",
        "\n",
        "\n"
      ],
      "metadata": {
        "id": "FZyNm_3Cq5hA"
      }
    },
    {
      "cell_type": "markdown",
      "source": [
        "# Setup (Choose Option 1 or 2, run once, and restart the Colab runtime when prompted)\n",
        "- Option 1: Download and install the pre-built SDK from Google Drive\n",
        "- Option 2: [Currently not available] Build the client library from the GitHub repo and install"
      ],
      "metadata": {
        "id": "h_R20jpO3o2v"
      }
    },
    {
      "cell_type": "markdown",
      "source": [
        "## Option 1: Download and install the pre-built SDK from Drive"
      ],
      "metadata": {
        "id": "wkXblapsb4LT"
      }
    },
    {
      "cell_type": "code",
      "source": [
        "from google.colab import drive\n",
        "drive.mount(\"/content/drive\")"
      ],
      "metadata": {
        "outputId": "592c3055-10d9-4fb2-c856-3ea3af3dffa2",
        "colab": {
          "base_uri": "https://localhost:8080/"
        },
        "id": "p8vTWomJ3o2x"
      },
      "execution_count": null,
      "outputs": [
        {
          "output_type": "stream",
          "name": "stdout",
          "text": [
            "Mounted at /content/drive\n"
          ]
        }
      ]
    },
    {
      "cell_type": "code",
      "source": [
        "# You should have been shared this folder\n",
        "\n",
        "%cp -R /content/drive/Shareddrives/geminidataanalytics/SDKs/geminidataanalytics-v1alpha-py.tar.gz /tmp/geminidataanalytics-v1alpha-py.tar.gz\n",
        "\n",
        "%cd /tmp\n",
        "!tar -xvzf geminidataanalytics-v1alpha-py.tar.gz\n",
        "%cd geminidataanalytics-v1alpha-py\n",
        "\n",
        "# You'l be asked to restart the runtime after this finishes.  After restarting there's no need to run this again.\n",
        "!pip install ."
      ],
      "metadata": {
        "id": "S5DHiiEBrvua",
        "collapsed": true
      },
      "execution_count": null,
      "outputs": []
    },
    {
      "cell_type": "markdown",
      "source": [
        "# Setup"
      ],
      "metadata": {
        "id": "Gfy7GsIkHvOp"
      }
    },
    {
      "cell_type": "markdown",
      "source": [
        "## Authenticate"
      ],
      "metadata": {
        "id": "17h5Ps3sPq9w"
      }
    },
    {
      "cell_type": "code",
      "source": [
        "from google.colab import auth\n",
        "auth.authenticate_user()"
      ],
      "metadata": {
        "id": "3SIB1yG9HvOq"
      },
      "execution_count": null,
      "outputs": []
    },
    {
      "cell_type": "markdown",
      "source": [
        "## Imports"
      ],
      "metadata": {
        "id": "zeTjBav-oSMO"
      }
    },
    {
      "cell_type": "code",
      "source": [
        "from pygments import highlight, lexers, formatters\n",
        "import pandas as pd\n",
        "import requests\n",
        "import json as json_lib\n",
        "import altair as alt\n",
        "import IPython\n",
        "from IPython.display import display, HTML\n",
        "\n",
        "import proto\n",
        "from google.protobuf.json_format import MessageToDict, MessageToJson\n"
      ],
      "metadata": {
        "id": "62cHAeMKPeh1"
      },
      "execution_count": null,
      "outputs": []
    },
    {
      "cell_type": "markdown",
      "source": [
        "## Define utilities for viewing responses"
      ],
      "metadata": {
        "id": "XMudfdzZPnWa"
      }
    },
    {
      "cell_type": "code",
      "execution_count": null,
      "metadata": {
        "id": "3sPlf0l09t2y"
      },
      "outputs": [],
      "source": [
        "def handle_text_response(resp):\n",
        "  parts = getattr(resp, 'parts')\n",
        "  print(''.join(parts))\n",
        "\n",
        "def display_schema(data):\n",
        "  fields = getattr(data, 'fields')\n",
        "  df = pd.DataFrame({\n",
        "    \"Column\": map(lambda field: getattr(field, 'name'), fields),\n",
        "    \"Type\": map(lambda field: getattr(field, 'type'), fields),\n",
        "    \"Description\": map(lambda field: getattr(field, 'description', '-'), fields),\n",
        "    \"Mode\": map(lambda field: getattr(field, 'mode'), fields)\n",
        "  })\n",
        "  display(df)\n",
        "\n",
        "def display_section_title(text):\n",
        "  display(HTML('<h2>{}</h2>'.format(text)))\n",
        "\n",
        "def format_looker_table_ref(table_ref):\n",
        " return 'lookmlModel: {}, explore: {}, lookerInstanceUri: {}'.format(table_ref.lookml_model, table_ref.explore, table_ref.looker_instance_uri)\n",
        "\n",
        "def format_bq_table_ref(table_ref):\n",
        "  return '{}.{}.{}'.format(table_ref.project_id, table_ref.dataset_id, table_ref.table_id)\n",
        "\n",
        "def display_datasource(datasource):\n",
        "  source_name = ''\n",
        "  if 'studio_datasource_id' in datasource:\n",
        "   source_name = getattr(datasource, 'studio_datasource_id')\n",
        "  elif 'looker_explore_reference' in datasource:\n",
        "   source_name = format_looker_table_ref(getattr(datasource, 'looker_explore_reference'))\n",
        "  else:\n",
        "    source_name = format_bq_table_ref(getattr(datasource, 'bigquery_table_reference'))\n",
        "\n",
        "  print(source_name)\n",
        "  display_schema(datasource.schema)\n",
        "\n",
        "def handle_schema_response(resp):\n",
        "  if 'query' in resp:\n",
        "    print(resp.query.question)\n",
        "  elif 'result' in resp:\n",
        "    display_section_title('Schema resolved')\n",
        "    print('Data sources:')\n",
        "    for datasource in resp.result.datasources:\n",
        "      display_datasource(datasource)\n",
        "\n",
        "def handle_data_response(resp):\n",
        "  if 'query' in resp:\n",
        "    query = resp.query\n",
        "    display_section_title('Retrieval query')\n",
        "    print('Query name: {}'.format(query.name))\n",
        "    print('Question: {}'.format(query.question))\n",
        "    print('Data sources:')\n",
        "    for datasource in query.datasources:\n",
        "      display_datasource(datasource)\n",
        "  elif 'generated_sql' in resp:\n",
        "    display_section_title('SQL generated')\n",
        "    print(resp.generated_sql)\n",
        "  elif 'result' in resp:\n",
        "    display_section_title('Data retrieved')\n",
        "\n",
        "    fields = [field.name for field in resp.result.schema.fields]\n",
        "    d = {}\n",
        "    for el in resp.result.data:\n",
        "      for field in fields:\n",
        "        if field in d:\n",
        "          d[field].append(el[field])\n",
        "        else:\n",
        "          d[field] = [el[field]]\n",
        "\n",
        "    display(pd.DataFrame(d))\n",
        "\n",
        "def handle_chart_response(resp):\n",
        "  def _value_to_dict(v):\n",
        "    if isinstance(v, proto.marshal.collections.maps.MapComposite):\n",
        "      return _map_to_dict(v)\n",
        "    elif isinstance(v, proto.marshal.collections.RepeatedComposite):\n",
        "      return [_value_to_dict(el) for el in v]\n",
        "    elif isinstance(v, (int, float, str, bool)):\n",
        "      return v\n",
        "    else:\n",
        "      return MessageToDict(v)\n",
        "\n",
        "  def _map_to_dict(d):\n",
        "    out = {}\n",
        "    for k in d:\n",
        "      if isinstance(d[k], proto.marshal.collections.maps.MapComposite):\n",
        "        out[k] = _map_to_dict(d[k])\n",
        "      else:\n",
        "        out[k] = _value_to_dict(d[k])\n",
        "    return out\n",
        "\n",
        "  if 'query' in resp:\n",
        "    print(resp.query.instructions)\n",
        "  elif 'result' in resp:\n",
        "    vegaConfig = resp.result.vega_config\n",
        "    vegaConfig_dict = _map_to_dict(vegaConfig)\n",
        "    alt.Chart.from_json(json_lib.dumps(vegaConfig_dict)).display();\n",
        "\n",
        "def show_message(msg):\n",
        "  m = msg.system_message\n",
        "  if 'text' in m:\n",
        "    handle_text_response(getattr(m, 'text'))\n",
        "  elif 'schema' in m:\n",
        "    handle_schema_response(getattr(m, 'schema'))\n",
        "  elif 'data' in m:\n",
        "    handle_data_response(getattr(m, 'data'))\n",
        "  elif 'chart' in m:\n",
        "    handle_chart_response(getattr(m, 'chart'))\n",
        "  print('\\n')\n"
      ]
    },
    {
      "cell_type": "markdown",
      "source": [
        "# Example API call\n",
        "**All API calls** take `billing_project` (a GCP billing project), a `question` (first in a list of Messages), and `system_instruction` (optional)\n",
        "\n",
        "\n",
        "**BigQuery calls** create a BigQueryTableReference contain: via `project_id`, `dataset_id`, and `table_id`. Note that multiple table references can be passed in a list.\n",
        "\n",
        "\n",
        "**Looker calls** create a LookerExploreReference with `looker_instance_uri`, `lookml_model`, and `explore`. Auth credentials are created with `client_id` and `client_secret`.\n",
        "\n",
        "*Note: options for advanced system instructions are in the cells below*"
      ],
      "metadata": {
        "id": "TGAOb15dlRKj"
      }
    },
    {
      "cell_type": "code",
      "source": [
        "# @title Import the GeminiDataAnalytics client library\n",
        "\n",
        "from google.cloud import geminidataanalytics\n",
        "from google.iam.v1 import iam_policy_pb2, policy_pb2"
      ],
      "metadata": {
        "id": "6rrLdjvm7QrX"
      },
      "execution_count": null,
      "outputs": []
    },
    {
      "cell_type": "code",
      "source": [
        "# @title Data Source details And Client\n",
        "\n",
        "data_agent_client = geminidataanalytics.DataAgentServiceClient()\n",
        "data_chat_client = geminidataanalytics.DataChatServiceClient()\n",
        "\n",
        "################### Billing Project ###################\n",
        "billing_project = \"cloud-raspberry-e2e-testing\" # @param {type:\"string\"}\n",
        "\n",
        "\n",
        "# ################### BigQuery Data Source(s) ###################\n",
        "# # List datasource(s) you'd like to ask questions of\n",
        "# # This example only includes one source but you can include a list.\n",
        "# # Make sure you have permission to query any tables listed here.\n",
        "bq_project_id = \"bigquery-public-data\" # @param {type:\"string\"}\n",
        "bq_dataset_id = \"faa\" # @param {type:\"string\"}\n",
        "bq_table_id = \"us_airports\" # @param {type:\"string\"}\n",
        "\n",
        "\n",
        "################## Looker Data Source ###################\n",
        "# Alternatively you can specify Looker datasources (uncomment to use)\n",
        "# An example with: https://my_company.looker.com/explore/my_model/my_explore\n",
        "looker_client_id = \"<add client_id here>\" # @param {type:\"string\"}\n",
        "looker_client_secret = \"<add client_secret here>\" # @param {type:\"string\"}\n",
        "looker_access_token = \"<add access_token here>\" # @param {type:\"string\"}\n",
        "looker_instance_uri = \"https://my_company.looker.com\" # @param {type:\"string\"}\n",
        "lookml_model = \"<add lookml_model here>\" # @param {type:\"string\"}\n",
        "explore = \"<add explore here>\" # @param {type:\"string\"}\n",
        "\n",
        "\n",
        "################## Looker Studio Data Source ###################\n",
        "studio_datasource_id = \"<add studio_datasource_id here>\" # @param {type:\"string\"}\n"
      ],
      "metadata": {
        "id": "d7p70VJidG5z"
      },
      "execution_count": null,
      "outputs": []
    },
    {
      "cell_type": "markdown",
      "source": [
        "### Provide Robust System Instruction\n",
        "- Providing more context around your business and your data improves the quality of answers. We recommend (though do not require) you follow our example `system_instruction` below and fill out the stringified YAML **template** provided with field instructions, validated (\"golden\") queries, relationships, business terms, etc.\n",
        "- We are working to improve how our product ingests and uses this context to improve question-answering accuracy"
      ],
      "metadata": {
        "id": "xMjbfg7YUnTc"
      }
    },
    {
      "cell_type": "code",
      "source": [
        "###############################################################################\n",
        "#######         Define system instruction for the question.             #######\n",
        "#######    system_instruction is optional, can be used to steer         #######\n",
        "#######              the agent's answering strategy.                    #######\n",
        "###############################################################################\n",
        "\n",
        "###############################################################################\n",
        "##### Example template for system instruction for a sales analyst agent:  #####\n",
        "###############################################################################\n",
        "\n",
        "# \"\"\"\n",
        "# - system_instruction: >-\n",
        "#     You are an expert sales analyst and understand how to answer questions about\n",
        "#     the sales data for a fictitious e-commence store\n",
        "# - tables:\n",
        "#     - table:\n",
        "#         - name: bigquery-public-data.thelook_ecommerce.orders\n",
        "#         - description: orders for The Look fictitious e-commerce store.\n",
        "#         - synonyms: sales\n",
        "#         - tags: 'sale, order, sales_order'\n",
        "#         - fields:\n",
        "#             - field:\n",
        "#                 - name: order_id\n",
        "#                 - description: unique identifier for each order\n",
        "#             - field:\n",
        "#                 - name: user_id\n",
        "#                 - description: unique identifier for each user\n",
        "#             - field:\n",
        "#                 - name: status\n",
        "#                 - description: status of the order\n",
        "#                 - sample_values:\n",
        "#                     - complete\n",
        "#                     - shipped\n",
        "#                     - returned\n",
        "#             - field:\n",
        "#                 - name: gender\n",
        "#                 - description: gender of the user\n",
        "#                 - sample_values:\n",
        "#                     - male\n",
        "#                     - female\n",
        "#             - field:\n",
        "#                 - name: created_at\n",
        "#                 - description: date and time when the order was created in timestamp format\n",
        "#             - field:\n",
        "#                 - name: returned_at\n",
        "#                 - description: >-\n",
        "#                     date and time when the order was returned in timestamp\n",
        "#                     format\n",
        "#             - field:\n",
        "#                 - name: num_of_item\n",
        "#                 - description: number of items in the order\n",
        "#                 - aggregations: 'sum, avg'\n",
        "#             - field:\n",
        "#                 - name: earnings\n",
        "#                 - description: total sales from the order\n",
        "#                 - aggregations: 'sum, avg'\n",
        "#             - field:\n",
        "#                 - name: cost\n",
        "#                 - description: total cost to get the items for the order\n",
        "#                 - aggregations: 'sum, avg'\n",
        "#         - measures:\n",
        "#             - measure:\n",
        "#                 - name: profit\n",
        "#                 - description: raw profit\n",
        "#                 - exp: cost - earnings\n",
        "#                 - synonyms: gains\n",
        "#         - golden_queries:\n",
        "#             - golden_query:\n",
        "#                 - natural_language_query: How many orders are there?\n",
        "#                 - sql_query: SELECT COUNT(*) FROM sqlgen-testing.thelook_ecommerce.orders\n",
        "#             - golden_query:\n",
        "#                 - natural_language_query: How many orders were shipped?\n",
        "#                 - sql_query: >-\n",
        "#                     SELECT COUNT(*) FROM sqlgen-testing.thelook_ecommerce.orders\n",
        "#                     WHERE status = 'shipped'\n",
        "#         - golden_action_plans:\n",
        "#             - golden_action_plan:\n",
        "#                 - natural_language_query: Show me the number of orders broken down by gender.\n",
        "#                 - action_plan:\n",
        "#                     - step: >-\n",
        "#                         Run a SQL query on the table\n",
        "#                         sqlgen-testing.thelook_ecommerce.orders to get a\n",
        "#                         breakdown of order count by gender.\n",
        "#                     - step: >-\n",
        "#                         Create a vertical bar plot using the retrieved data,\n",
        "#                         with one bar per gender.\n",
        "#     - table:\n",
        "#         - name: sqlgen-testing.thelook_ecommerce.users\n",
        "#         - description: user of The Look fictitious e-commerce store.\n",
        "#         - synonyms: customers\n",
        "#         - tags: 'user, customer, buyer'\n",
        "#         - fields:\n",
        "#             - field:\n",
        "#                 - name: id\n",
        "#                 - description: unique identifier for each user\n",
        "#             - field:\n",
        "#                 - name: first_name\n",
        "#                 - description: first name of the user\n",
        "#                 - tag: person\n",
        "#                 - sample_values: 'graham, sara, brian'\n",
        "#             - field:\n",
        "#                 - name: last_name\n",
        "#                 - description: first name of the user\n",
        "#                 - tag: person\n",
        "#                 - sample_values: 'warmer, stilles, smith'\n",
        "#             - field:\n",
        "#                 - name: gender\n",
        "#                 - description: gender of the user\n",
        "#                 - sample_values:\n",
        "#                     - male\n",
        "#                     - female\n",
        "#             - field:\n",
        "#                 - name: email\n",
        "#                 - description: email of the user\n",
        "#                 - tag: contact\n",
        "#                 - sample_values: 'brian@gmail.com, graham@gmail.com'\n",
        "#         - golden_queries:\n",
        "#             - golden_query:\n",
        "#                 - natural_language_query: How many unique customers are there?\n",
        "#                 - sql_query: >-\n",
        "#                     SELECT COUNT(DISTINCT id) FROM\n",
        "#                     sqlgen-testing.thelook_ecommerce.users\n",
        "#             - golden_query:\n",
        "#                 - natural_language_query: How many female users have gmail email id?\n",
        "#                 - sql_query: >-\n",
        "#                     SELECT COUNT(DISTINCT id) FROM\n",
        "#                     sqlgen-testing.thelook_ecommerce.users WHERE users.gender =\n",
        "#                     'F' AND users.email LIKE '%@gmail.com';\n",
        "#     - relationships:\n",
        "#         - relationship:\n",
        "#             - name: earnings_to_user\n",
        "#             - description: >-\n",
        "#                 Sales table is related to the users table and can be joined for\n",
        "#                 aggregated view.\n",
        "#             - relationship_type: many-to-one\n",
        "#             - join_type: left\n",
        "#             - left_table: str sqlgen-testing.thelook_ecommerce.orders\n",
        "#             - right_table: sqlgen-testing.thelook_ecommerce.users\n",
        "#             - relationship_columns: '// Join columns - left_column:''user_id'' - right_column:''id'''\n",
        "# - glossaries:\n",
        "#     - glossary:\n",
        "#         - term: male\n",
        "#         - description: male gender\n",
        "#     - glossary:\n",
        "#         - term: female\n",
        "#         - description: female gender\n",
        "#     - glossary:\n",
        "#         - term: complete\n",
        "#         - description: complete status\n",
        "#         - synonyms: 'finish, done, fulfilled'\n",
        "#     - glossary:\n",
        "#         - term: shipped\n",
        "#         - description: shipped status\n",
        "#     - glossary:\n",
        "#         - term: returned\n",
        "#         - description: returned status\n",
        "#     - glossary:\n",
        "#         - term: OMPF\n",
        "#         - description: Order Management and Product Fulfillment\n",
        "# - additionl_descriptions:\n",
        "#     - text: All the sales data is for Looker organization.\n",
        "#     - text: 'Orders can be of three categories, food , clothes, electronics.'\n",
        "# \"\"\"\n",
        "\n",
        "###############################################################################\n",
        "######    Use the schema below to provide your own system description.   ######\n",
        "###############################################################################\n",
        "\n",
        "# \"\"\"\n",
        "# - system_description: str # Expected behavior of the agent. Eg. You are a sales analyst.\n",
        "# - tables:\n",
        "#     - table: # Table relevant for this agent.\n",
        "#         - name: str # Name of the table.\n",
        "#         - description: str # Description of the table.\n",
        "#         - synonyms: list[str] # List of synonyms used to refer to the table.\n",
        "#         - tags: list[str] # List of tags associated with the table.\n",
        "#         - fields: # Fields in the table.\n",
        "#             - field:\n",
        "#             - name: str # Name of the column.\n",
        "#             - description: str # Description of the column.\n",
        "#             - synonyms: list[str] # List of synonyms used to refer to the column.\n",
        "#             - tags: list[str] # List of tags associated with the column.\n",
        "#             - sample_values: list[str] # List of sample values in the column.\n",
        "#             - aggregations: list[str] # Any commonly used or default aggregations associated with the column.\n",
        "#         - measures: # Measures for the table.\n",
        "#             - measure:\n",
        "#                 - name: str # Name of the measure.\n",
        "#                 - description: str # Description of the meansure.\n",
        "#                 - exp: str # Expression to construct the measure.\n",
        "#                 - synonyms: list[str] # List of synonyms used to refer to the measure.\n",
        "#         - golden_queries: # Golden or popular queries for the table.\n",
        "#             - golden_query:\n",
        "#                 - natural_language_query: str # Natural language query.\n",
        "#                 - sql_query: str # SQL query.\n",
        "#         - golden_action_plans: # Golden action plans as the suggested steps to take (in order) to answer the query.\n",
        "#           - golden_action_plan:\n",
        "#             - natural_language_query: str # Natural language query.\n",
        "#             - action_plan:\n",
        "#               - step: str # Step to take.\n",
        "#     - relationships: # Join relationships between tables.\n",
        "#         - relationship:\n",
        "#           - name: str # Name of the relationship.\n",
        "#           - description: str # Description of the relationship.\n",
        "#           - relationship_type: str # Relationship type: one-to-one, one-to-many, many-to-one, many-to-many.\n",
        "#           - join_type: str # Join type: inner, outer, left, right, full\n",
        "#           - left_table: str # Left table name.\n",
        "#           - right_table: str # Right table name.\n",
        "#           - relationship_columns: # Join columns.\n",
        "#               - left_column: str # Join column from left table.\n",
        "#               - right_column: str # Join column from right table.\n",
        "# - glossaries: # Business glossary, jargon, etc.\n",
        "#     - glossary:\n",
        "#         - term: str # Name of the term. Term can be a word, phrase, abbreviation, etc.\n",
        "#         - description: str # Description or definition of the term.\n",
        "#         - synonyms: list[str] # List of synonyms for the term.\n",
        "# - additional_descriptions:\n",
        "#     - text: str # Any additional description that was not covered above.\n",
        "# \"\"\""
      ],
      "metadata": {
        "id": "Bla2oAfRHcOx"
      },
      "execution_count": null,
      "outputs": []
    },
    {
      "cell_type": "code",
      "source": [
        "##################### OPTION 1 ###############################\n",
        "#######                                                #######\n",
        "#######        Fill the above YAML template for        #######\n",
        "#######  system_instruction as shown in example above. #######\n",
        "#######                                                #######\n",
        "##############################################################\n",
        "\n",
        "system_instruction = \"\"\"\"\"\""
      ],
      "metadata": {
        "id": "S6-3l1ggHK2_"
      },
      "execution_count": null,
      "outputs": []
    },
    {
      "cell_type": "code",
      "source": [
        "##################### OPTION 2 ###############################\n",
        "#######                                                #######\n",
        "#######         Leave system_instruction empty         #######\n",
        "#######         or provide description in form         #######\n",
        "#######                 of long string.                #######\n",
        "#######                                                #######\n",
        "##############################################################\n",
        "\n",
        "# Define context for question.\n",
        "# system_instruction is optional, can be used to steer the agent's answering\n",
        "# strategy.\n",
        "system_instruction = \"Think like an Analyst\" # @param {type:\"string\"}"
      ],
      "metadata": {
        "id": "9Ac6KtdMHhea"
      },
      "execution_count": null,
      "outputs": []
    },
    {
      "cell_type": "markdown",
      "source": [
        "### *Helper functions for processing the system_instruction yaml string*"
      ],
      "metadata": {
        "id": "CsiZmq5lOppv"
      }
    },
    {
      "cell_type": "code",
      "source": [
        "import yaml\n",
        "from yaml.scanner import ScannerError\n",
        "from collections import Counter\n",
        "import re\n",
        "\n",
        "def cleanup_path(input_string):\n",
        "  \"\"\"Removes bracketed numbers and preceding dots from an input string.\n",
        "\n",
        "  Args:\n",
        "    input_string: The input string.\n",
        "\n",
        "  Returns:\n",
        "    The string with bracketed numbers and preceding dots removed.\n",
        "  \"\"\"\n",
        "  cleaned_string = re.sub(r\"\\[\\d+]\", \"\", input_string)\n",
        "  if cleaned_string.startswith(\".\"):\n",
        "    cleaned_string = cleaned_string[1:]\n",
        "  return cleaned_string\n",
        "\n",
        "def is_valid_yaml(yaml_string):\n",
        "    try:\n",
        "        yaml.safe_load(yaml_string)\n",
        "        return True\n",
        "    except ScannerError:\n",
        "        return False\n",
        "    except Exception as e:\n",
        "        print(f\"An unexpected error occurred: {e}\")\n",
        "        return False\n",
        "\n",
        "def print_counter_desc(data):\n",
        "    # Count the occurrences of each item in the list.\n",
        "    item_counts = Counter(data)\n",
        "\n",
        "    # Sort the items in descending order based on their counts.\n",
        "    sorted_items = sorted(item_counts.items(), key=lambda item: item[1], reverse=True)\n",
        "\n",
        "    # Print the items and their counts.\n",
        "    for item, count in sorted_items:\n",
        "        print(f\"{item}: {count}\")\n",
        "\n",
        "def extract_insights_from_system_instruction(yaml_string):\n",
        "\n",
        "  \"\"\"\n",
        "    Extracts insights into used fields from a YAML string.\n",
        "\n",
        "    Args:\n",
        "      yaml_string: The YAML string to analyze.\n",
        "  \"\"\"\n",
        "\n",
        "  if not is_valid_yaml(yaml_string):\n",
        "      print(\"Received Invalid or not a YAML format. Cannot extract insights.\")\n",
        "      return\n",
        "\n",
        "  try:\n",
        "      data = yaml.safe_load(yaml_string)\n",
        "      used_fields = []\n",
        "      def traverse(node, path=\"\"):\n",
        "            if isinstance(node, dict):\n",
        "                for key, value in node.items():\n",
        "                    new_path = f\"{path}.{key}\" if path else key\n",
        "                    traverse(value, new_path)\n",
        "            elif isinstance(node, list):\n",
        "                for i, item in enumerate(node):\n",
        "                    new_path = f\"{path}[{i}]\"\n",
        "                    traverse(item, new_path)\n",
        "            else:\n",
        "                used_fields.append(cleanup_path(path))\n",
        "\n",
        "      traverse(data)\n",
        "      print(\"Insights:\")\n",
        "      print(\"Number of unique fields used: \", len(set(used_fields)))\n",
        "      print(\"Used fields in YAML:\")\n",
        "      print()\n",
        "      print_counter_desc(used_fields)\n",
        "\n",
        "  except ScannerError as e:\n",
        "      print(f\"Invalid YAML: {e}\")\n",
        "      return None\n",
        "  except Exception as e:\n",
        "      print(f\"An unexpected error occurred: {e}\")\n",
        "      return None\n",
        "\n",
        "\n",
        "# Printing insights assuming 'system_instruction' is defined above.\n",
        "extract_insights_from_system_instruction(system_instruction)"
      ],
      "metadata": {
        "id": "ezPjVAXRHxFc",
        "colab": {
          "base_uri": "https://localhost:8080/"
        },
        "outputId": "a2fc20fc-3790-440e-fb1f-95e7be37dfa6"
      },
      "execution_count": null,
      "outputs": [
        {
          "output_type": "stream",
          "name": "stdout",
          "text": [
            "Insights:\n",
            "Number of unique fields used:  1\n",
            "Used fields in YAML:\n",
            "\n",
            ": 1\n"
          ]
        }
      ]
    },
    {
      "cell_type": "markdown",
      "source": [
        "### Datasource set-up"
      ],
      "metadata": {
        "id": "TzR6252uXyoV"
      }
    },
    {
      "cell_type": "code",
      "source": [
        "# BigQuery Data Source\n",
        "bigquery_table_reference = geminidataanalytics.BigQueryTableReference()\n",
        "bigquery_table_reference.project_id = bq_project_id\n",
        "bigquery_table_reference.dataset_id = bq_dataset_id\n",
        "bigquery_table_reference.table_id = bq_table_id\n",
        "\n",
        "# Looker Data source\n",
        "looker_explore_reference = geminidataanalytics.LookerExploreReference()\n",
        "looker_explore_reference.looker_instance_uri = looker_instance_uri\n",
        "looker_explore_reference.lookml_model = lookml_model\n",
        "looker_explore_reference.explore = explore\n",
        "\n",
        "# When connecting to the Lokker datasource, you can authenticate using either:\n",
        "# 1. client_id and client_secret\n",
        "# 2. access_token\n",
        "credentials = geminidataanalytics.Credentials()\n",
        "credentials.oauth.secret.client_id = looker_client_id\n",
        "credentials.oauth.secret.client_secret = looker_client_secret\n",
        "# Uncomment the next line and comment out the above two lines if you are using access_token for authentication\n",
        "# credentials.oauth.token.access_token = looker_access_token\n",
        "\n",
        "\n",
        "# Looker Studio\n",
        "studio_references = geminidataanalytics.StudioDatasourceReference()\n",
        "studio_references.datasource_id = studio_datasource_id\n",
        "\n",
        "\n",
        "# Connect to your Data Source\n",
        "datasource_references = geminidataanalytics.DatasourceReferences()\n",
        "datasource_references.bq.table_references = [bigquery_table_reference]\n",
        "# datasource_references.looker.explore_references = [looker_explore_reference]\n",
        "# datasource_references.studio.studio_references = [studio_references]\n",
        "\n",
        "\n",
        "# Context set-up for stateful chat\n",
        "published_context = geminidataanalytics.Context()\n",
        "published_context.system_instruction = system_instruction\n",
        "published_context.datasource_references = datasource_references\n",
        "published_context.options.analysis.python.enabled = True # if wanting to use advanced analysis with python\n",
        "\n",
        "\n",
        "# Context set-up for stateless chat\n",
        "# datasource_references.looker.credentials = credentials # uncomment this if you are using looker datasource\n",
        "inline_context = geminidataanalytics.Context()\n",
        "inline_context.system_instruction = system_instruction\n",
        "inline_context.datasource_references = datasource_references\n",
        "inline_context.options.analysis.python.enabled = True # if wanting to use advanced analysis with python"
      ],
      "metadata": {
        "id": "OnPVIsCXSbNk"
      },
      "execution_count": null,
      "outputs": []
    },
    {
      "cell_type": "markdown",
      "source": [
        "### Create and Get Data Agent"
      ],
      "metadata": {
        "id": "ylFsFh_vX6IK"
      }
    },
    {
      "cell_type": "code",
      "source": [
        "# @title Create Data Agent\n",
        "\n",
        "data_agent_id = \"data_agent_bq_0807\" # @param {type:\"string\"}\n",
        "\n",
        "data_agent = geminidataanalytics.DataAgent()\n",
        "data_agent.data_analytics_agent.published_context = published_context\n",
        "data_agent.name = f\"projects/{billing_project}/locations/global/dataAgents/{data_agent_id}\" #Optional\n",
        "\n",
        "request = geminidataanalytics.CreateDataAgentRequest(\n",
        "    parent=f\"projects/{billing_project}/locations/global\",\n",
        "    data_agent_id=data_agent_id, #Optional\n",
        "    data_agent=data_agent,\n",
        ")\n",
        "\n",
        "try:\n",
        "    response = data_agent_client.create_data_agent(request=request)\n",
        "    print(f\"Data Agent created:\\n\\n{response.metadata}\")\n",
        "except Exception as e:\n",
        "    print(f\"Error creating Data Agent: {e}\")\n"
      ],
      "metadata": {
        "colab": {
          "base_uri": "https://localhost:8080/"
        },
        "collapsed": true,
        "id": "qXplnBRAMOXN",
        "outputId": "f446becc-940b-42ce-b752-91d892dbde11",
        "cellView": "form"
      },
      "execution_count": null,
      "outputs": [
        {
          "output_type": "stream",
          "name": "stdout",
          "text": [
            "Error creating Data Agent: 409 Resource 'projects/cloud-raspberry-e2e-testing/locations/global/dataAgents/data_agent_bq_0807' already exists [resource_name: \"projects/cloud-raspberry-e2e-testing/locations/global/dataAgents/data_agent_bq_0807\"\n",
            "]\n"
          ]
        }
      ]
    },
    {
      "cell_type": "code",
      "source": [
        "# @title Get Data Agent\n",
        "\n",
        "# Initialize request argument(s)\n",
        "data_agent_id = \"data_agent_bq_0807\" # @param {type:\"string\"}\n",
        "\n",
        "request = geminidataanalytics.GetDataAgentRequest(\n",
        "    name=f\"projects/{billing_project}/locations/global/dataAgents/{data_agent_id}\",\n",
        ")\n",
        "\n",
        "# Make the request\n",
        "response = data_agent_client.get_data_agent(request=request)\n",
        "\n",
        "# Handle the response\n",
        "print(response)"
      ],
      "metadata": {
        "colab": {
          "base_uri": "https://localhost:8080/"
        },
        "id": "HBze_do96RI2",
        "outputId": "9d331239-35fa-475a-b84a-5c712b221851",
        "collapsed": true,
        "cellView": "form"
      },
      "execution_count": null,
      "outputs": [
        {
          "output_type": "stream",
          "name": "stdout",
          "text": [
            "name: \"projects/cloud-raspberry-e2e-testing/locations/global/dataAgents/data_agent_bq_0807\"\n",
            "description: \"This is the description of data_agent.\"\n",
            "create_time {\n",
            "  seconds: 1752041886\n",
            "  nanos: 260681915\n",
            "}\n",
            "update_time {\n",
            "  seconds: 1752041886\n",
            "  nanos: 973576585\n",
            "}\n",
            "data_analytics_agent {\n",
            "  published_context {\n",
            "    system_instruction: \"Think like an Analyst\"\n",
            "    options {\n",
            "      analysis {\n",
            "        python {\n",
            "          enabled: true\n",
            "        }\n",
            "      }\n",
            "    }\n",
            "    datasource_references {\n",
            "      bq {\n",
            "        table_references {\n",
            "          project_id: \"bigquery-public-data\"\n",
            "          dataset_id: \"faa\"\n",
            "          table_id: \"us_airports\"\n",
            "        }\n",
            "      }\n",
            "    }\n",
            "  }\n",
            "}\n",
            "\n"
          ]
        }
      ]
    },
    {
      "cell_type": "markdown",
      "source": [
        "### Create Conversation"
      ],
      "metadata": {
        "id": "74T2_BksYBxI"
      }
    },
    {
      "cell_type": "code",
      "source": [
        "# Initialize request argument(s)\n",
        "data_agent_id = \"data_agent_bq_0807\" # @param {type:\"string\"}\n",
        "conversation_id = \"conversation_bq_0807\" # @param {type:\"string\"}\n",
        "\n",
        "conversation = geminidataanalytics.Conversation()\n",
        "conversation.agents = [f'projects/{billing_project}/locations/global/dataAgents/{data_agent_id}']\n",
        "conversation.name = f\"projects/{billing_project}/locations/global/conversations/{conversation_id}\"\n",
        "\n",
        "request = geminidataanalytics.CreateConversationRequest(\n",
        "    parent=f\"projects/{billing_project}/locations/global\",\n",
        "    conversation_id=conversation_id,\n",
        "    conversation=conversation,\n",
        ")\n",
        "\n",
        "# Make the request\n",
        "response = data_chat_client.create_conversation(request=request)\n",
        "\n",
        "# Handle the respe\n",
        "print(response)"
      ],
      "metadata": {
        "id": "27yX_ItjMqWS",
        "collapsed": true,
        "colab": {
          "base_uri": "https://localhost:8080/"
        },
        "outputId": "f9764723-3c2f-4c2d-d6a3-fb14d84f05e6"
      },
      "execution_count": null,
      "outputs": [
        {
          "output_type": "stream",
          "name": "stdout",
          "text": [
            "name: \"projects/cloud-raspberry-e2e-testing/locations/global/conversations/conversation_bq_0807\"\n",
            "agents: \"projects/cloud-raspberry-e2e-testing/locations/global/dataAgents/data_agent_bq_0807\"\n",
            "create_time {\n",
            "  seconds: 1752057353\n",
            "  nanos: 904346000\n",
            "}\n",
            "last_used_time {\n",
            "  seconds: 1752057354\n",
            "  nanos: 231466000\n",
            "}\n",
            "\n"
          ]
        }
      ]
    },
    {
      "cell_type": "markdown",
      "source": [
        "# Chat request\n",
        "1. Chat request with Conversation reference\n",
        "2. Chat request Data Agent\n",
        "3. Chat request with Inline Context"
      ],
      "metadata": {
        "id": "t6453RzShYWB"
      }
    },
    {
      "cell_type": "markdown",
      "source": [
        "## [Stateful] Chat request with conversation reference"
      ],
      "metadata": {
        "id": "Q2mALm-giwgj"
      }
    },
    {
      "cell_type": "code",
      "source": [
        "\n",
        "# Create a request containing a single user message -- your question.\n",
        "question = \"Make a bar graph for the top 5 states by the total number of airports\" # @param {type:\"string\"}\n",
        "messages = [geminidataanalytics.Message()]\n",
        "messages[0].user_message.text = question\n",
        "\n",
        "data_agent_id = \"data_agent_bq_0807\" # @param {type:\"string\"}\n",
        "conversation_id = \"conversation_bq_0807\" # @param {type:\"string\"}\n",
        "\n",
        "# Create a conversation_reference\n",
        "conversation_reference = geminidataanalytics.ConversationReference()\n",
        "conversation_reference.conversation = f\"projects/{billing_project}/locations/global/conversations/{conversation_id}\"\n",
        "conversation_reference.data_agent_context.data_agent = f\"projects/{billing_project}/locations/global/dataAgents/{data_agent_id}\"\n",
        "# conversation_reference.data_agent_context.credentials = credentials # uncomment this if you are using looker datasource\n",
        "\n",
        "# Form the request\n",
        "request = geminidataanalytics.ChatRequest(\n",
        "    parent = f\"projects/{billing_project}/locations/global\",\n",
        "    messages = messages,\n",
        "    conversation_reference = conversation_reference\n",
        ")\n",
        "\n",
        "# Make the request\n",
        "stream = data_chat_client.chat(request=request)\n",
        "\n",
        "# Handle the response\n",
        "for response in stream:\n",
        "    show_message(response)\n"
      ],
      "metadata": {
        "id": "vkk9yYAHWnKU",
        "collapsed": true
      },
      "execution_count": null,
      "outputs": []
    },
    {
      "cell_type": "markdown",
      "source": [
        "## [Stateless] Chat request with data_agent"
      ],
      "metadata": {
        "id": "LdN2o3qUi99z"
      }
    },
    {
      "cell_type": "code",
      "source": [
        "# Create a request containing a single user message -- your question.\n",
        "question = \"Make a bar graph for the top 5 states by the total number of airports\" # @param {type:\"string\"}\n",
        "messages = [geminidataanalytics.Message()]\n",
        "messages[0].user_message.text = question\n",
        "\n",
        "data_agent_id = \"data_agent_bq_0107\" # @param {type:\"string\"}\n",
        "\n",
        "data_agent_context = geminidataanalytics.DataAgentContext()\n",
        "data_agent_context.data_agent = f\"projects/{billing_project}/locations/global/dataAgents/{data_agent_id}\"\n",
        "# data_agent_context.credentials = credentials # uncomment this if you are using looker datasource\n",
        "\n",
        "# Form the request\n",
        "request = geminidataanalytics.ChatRequest(\n",
        "    parent=f\"projects/{billing_project}/locations/global\",\n",
        "    messages=messages,\n",
        "    data_agent_context = data_agent_context\n",
        ")\n",
        "\n",
        "# Make the request\n",
        "stream = data_chat_client.chat(request=request)\n",
        "\n",
        "# Handle the response\n",
        "for response in stream:\n",
        "    show_message(response)\n"
      ],
      "metadata": {
        "collapsed": true,
        "id": "_t3_8o_qgxzp"
      },
      "execution_count": null,
      "outputs": []
    },
    {
      "cell_type": "markdown",
      "source": [
        "## [Stateless] Chat request with Inline Context"
      ],
      "metadata": {
        "id": "NKmRVLyDlt0n"
      }
    },
    {
      "cell_type": "code",
      "source": [
        "# Create a request containing a single user message -- your question.\n",
        "question = \"Make a bar graph for the top 5 states by the total number of airports\" # @param {type:\"string\"}\n",
        "messages = [geminidataanalytics.Message()]\n",
        "messages[0].user_message.text = question\n",
        "\n",
        "request = geminidataanalytics.ChatRequest(\n",
        "    inline_context=inline_context,\n",
        "    parent=f\"projects/{billing_project}/locations/global\",\n",
        "    messages=messages,\n",
        ")\n",
        "\n",
        "# Make the request\n",
        "stream = data_chat_client.chat(request=request)\n",
        "\n",
        "# Handle the response\n",
        "for response in stream:\n",
        "    show_message(response)\n"
      ],
      "metadata": {
        "id": "jhXiPBZY8QM7",
        "collapsed": true
      },
      "execution_count": null,
      "outputs": []
    },
    {
      "cell_type": "markdown",
      "source": [
        "# Stateless Multi-turn Conversation"
      ],
      "metadata": {
        "id": "SAMel8bWaoVs"
      }
    },
    {
      "cell_type": "code",
      "source": [
        "# @title Multi-turn Conversation\n",
        "\n",
        "# Re-used across requests to track previous turns\n",
        "conversation_messages = []\n",
        "\n",
        "data_agent_id = \"data_agent_bq_0107\" # @param {type:\"string\"}\n",
        "\n",
        "data_agent_context = geminidataanalytics.DataAgentContext()\n",
        "data_agent_context.data_agent = f\"projects/{billing_project}/locations/global/dataAgents/{data_agent_id}\"\n",
        "# data_agent_context.credentials = credentials # uncomment this if you are using looker datasource\n",
        "\n",
        "# Helper function for calling the API\n",
        "def multi_turn_Conversation(msg):\n",
        "\n",
        "  message = geminidataanalytics.Message()\n",
        "  message.user_message.text = msg\n",
        "\n",
        "  # Send multi-turn request by including previous turns, plus new message\n",
        "  conversation_messages.append(message)\n",
        "\n",
        "  request = geminidataanalytics.ChatRequest(\n",
        "      parent=f\"projects/{billing_project}/locations/global\",\n",
        "      messages=conversation_messages,\n",
        "      data_agent_context=data_agent_context,\n",
        "\n",
        "      # uncomment the line below when using chat with inline_context\n",
        "      # inline_context=inline_context\n",
        "  )\n",
        "\n",
        "  # Make the request\n",
        "  stream = data_chat_client.chat(request=request)\n",
        "\n",
        "  # Handle the response\n",
        "  for response in stream:\n",
        "    show_message(response)\n",
        "    conversation_messages.append(response)"
      ],
      "metadata": {
        "id": "SyBA1KHtyOgD"
      },
      "execution_count": null,
      "outputs": []
    },
    {
      "cell_type": "code",
      "source": [
        "# Send first-turn request\n",
        "multi_turn_Conversation(\"List of the top 5 states by the total number of airports\")"
      ],
      "metadata": {
        "collapsed": true,
        "id": "pmdkDdNFzZFg"
      },
      "execution_count": null,
      "outputs": []
    },
    {
      "cell_type": "code",
      "source": [
        "# Send follow-up-turn request\n",
        "multi_turn_Conversation(\"Can you please make it a pie chart?\")"
      ],
      "metadata": {
        "id": "WnCikHbCOy3o",
        "collapsed": true
      },
      "execution_count": null,
      "outputs": []
    },
    {
      "cell_type": "markdown",
      "source": [
        "# Other DataAgent Service Methods"
      ],
      "metadata": {
        "id": "mmz03WdUJ4Ya"
      }
    },
    {
      "cell_type": "code",
      "source": [
        "# @title Get Data Agent\n",
        "\n",
        "# Initialize request argument(s)\n",
        "\n",
        "data_agent_id = \"data_agent_bq_0107\" # @param {type:\"string\"}\n",
        "request = geminidataanalytics.GetDataAgentRequest(\n",
        "    name=f\"projects/{billing_project}/locations/global/dataAgents/{data_agent_id}\",\n",
        ")\n",
        "\n",
        "# Make the request\n",
        "response = data_agent_client.get_data_agent(request=request)\n",
        "\n",
        "# Handle the response\n",
        "print(response)\n"
      ],
      "metadata": {
        "id": "Y1QOX0AFKGDh",
        "collapsed": true
      },
      "execution_count": null,
      "outputs": []
    },
    {
      "cell_type": "code",
      "source": [
        "# @title List Data Agent\n",
        "\n",
        "# Initialize request argument(s)\n",
        "request = geminidataanalytics.ListDataAgentsRequest(\n",
        "    parent=f\"projects/{billing_project}/locations/global\",\n",
        ")\n",
        "\n",
        "# Make the request\n",
        "page_result = data_agent_client.list_data_agents(request=request)\n",
        "\n",
        "# Handle the response\n",
        "for response in page_result:\n",
        "    print(response)\n"
      ],
      "metadata": {
        "collapsed": true,
        "id": "dBVG9CEPKwuF"
      },
      "execution_count": null,
      "outputs": []
    },
    {
      "cell_type": "code",
      "source": [
        "# @title Update Data Agent\n",
        "from google.protobuf import field_mask_pb2\n",
        "\n",
        "# Initialize request argument(s)\n",
        "\n",
        "data_agent_id = \"data_agent_bq_0107\" # @param {type:\"string\"}\n",
        "\n",
        "data_agent = geminidataanalytics.DataAgent()\n",
        "data_agent.data_analytics_agent.published_context = published_context\n",
        "data_agent.name = f\"projects/{billing_project}/locations/global/dataAgents/{data_agent_id}\"\n",
        "data_agent.description = \"This is the my new updated description.\"\n",
        "\n",
        "\n",
        "update_mask = field_mask_pb2.FieldMask(paths=['description', 'data_analytics_agent.published_context'])\n",
        "\n",
        "request = geminidataanalytics.UpdateDataAgentRequest(\n",
        "    data_agent=data_agent,\n",
        "    update_mask=update_mask,\n",
        ")\n",
        "\n",
        "try:\n",
        "    # Make the request\n",
        "    data_agent_client.update_data_agent(request=request)\n",
        "    print(\"Data Agent Updated\")\n",
        "except Exception as e:\n",
        "    print(f\"Error updating Data Agent: {e}\")\n"
      ],
      "metadata": {
        "id": "pSAaAcUdLIvO",
        "collapsed": true
      },
      "execution_count": null,
      "outputs": []
    },
    {
      "cell_type": "code",
      "source": [
        "# @title Set IAM Policy for Data Agent\n",
        "\n",
        "''' PLEASE NOTE THIS API CALLS OVERRIDES EXISTING PERMISSION FOR THE RESOURCE.\n",
        "For preserving existing policy in practise call Get IAM policy to fetch existing policy and pass it along with additional changes\n",
        "in the call to Set IAM Policy\n",
        "'''\n",
        "\n",
        "# Inputs\n",
        "data_agent_id = \"shared_agent_26_06\" # @param {type:\"string\"}\n",
        "users = \"abc@google.com, xyx@google.com\" # @param {type:\"string\"}\n",
        "role = \"roles/geminidataanalytics.dataAgentEditor\" # @param {type:\"string\"}\n",
        "\n",
        "# Hardcoded to match working HTTP example\n",
        "location = \"global\"\n",
        "\n",
        "resource = f\"projects/{billing_project}/locations/{location}/dataAgents/{data_agent_id}\"\n",
        "\n",
        "# Construct the IAM policy\n",
        "binding = policy_pb2.Binding(\n",
        "    role=role,\n",
        "    members= [f\"user:{i.strip()}\" for i in users.split(\",\")]\n",
        ")\n",
        "\n",
        "policy = policy_pb2.Policy(bindings=[binding])\n",
        "\n",
        "# Create the request\n",
        "request = iam_policy_pb2.SetIamPolicyRequest(\n",
        "    resource=resource,\n",
        "    policy=policy\n",
        ")\n",
        "\n",
        "# Send the request\n",
        "try:\n",
        "    response = data_agent_client.set_iam_policy(request=request)\n",
        "    print(\"IAM Policy set successfully!\")\n",
        "    print(f\"Response: {response}\")\n",
        "except Exception as e:\n",
        "    print(f\"Error setting IAM policy: {e}\")"
      ],
      "metadata": {
        "id": "zTQrjHnXrF5W"
      },
      "execution_count": null,
      "outputs": []
    },
    {
      "cell_type": "code",
      "source": [
        "# @title GET IAM Policy for Data Agent\n",
        "\n",
        "# Initialize request argument(s)\n",
        "\n",
        "data_agent_id = \"shared_agent_26_06\" # @param {type:\"string\"}\n",
        "\n",
        "resource = f\"projects/{billing_project}/locations/global/dataAgents/{data_agent_id}\"\n",
        "request = iam_policy_pb2.GetIamPolicyRequest(\n",
        "            resource=resource,\n",
        "        )\n",
        "try:\n",
        "      response = data_agent_client.get_iam_policy(request=request)\n",
        "      print(\"IAM Policy fetched successfully!\")\n",
        "      print(f\"Response: {response}\")\n",
        "except Exception as e:\n",
        "    print(f\"Error setting IAM policy: {e}\")"
      ],
      "metadata": {
        "id": "6yNlfGFfrGHn"
      },
      "execution_count": null,
      "outputs": []
    },
    {
      "cell_type": "code",
      "source": [
        "# @title [Soft Delete] Delete Data Agent\n",
        "\n",
        "# Initialize request argument(s)\n",
        "\n",
        "data_agent_id = \"da_1606\" # @param {type:\"string\"}\n",
        "\n",
        "request = geminidataanalytics.DeleteDataAgentRequest(\n",
        "    name=f\"projects/{billing_project}/locations/global/dataAgents/{data_agent_id}\",\n",
        ")\n",
        "\n",
        "try:\n",
        "    # Make the request\n",
        "    data_agent_client.delete_data_agent(request=request)\n",
        "    print(\"Data Agent Deleted\")\n",
        "except Exception as e:\n",
        "    print(f\"Error deleting Data Agent: {e}\")\n"
      ],
      "metadata": {
        "id": "GDiXL18MNaAn",
        "collapsed": true
      },
      "execution_count": null,
      "outputs": []
    },
    {
      "cell_type": "markdown",
      "source": [
        "# Other DataChat Service Methods"
      ],
      "metadata": {
        "id": "t2gxdjLKCe9B"
      }
    },
    {
      "cell_type": "code",
      "source": [
        "# @title Get Conversation\n",
        "\n",
        "conversation_id = \"conversation_bq_0107\" # @param {type:\"string\"}\n",
        "\n",
        "request = geminidataanalytics.GetConversationRequest(\n",
        "     name = f\"projects/{billing_project}/locations/global/conversations/{conversation_id}\"\n",
        ")\n",
        "\n",
        "# Make the request\n",
        "response = data_chat_client.get_conversation(request=request)\n",
        "\n",
        "# Handle the respe\n",
        "print(response)"
      ],
      "metadata": {
        "id": "clN0SioB6ejc",
        "collapsed": true
      },
      "execution_count": null,
      "outputs": []
    },
    {
      "cell_type": "code",
      "source": [
        "# @title List Conversation\n",
        "\n",
        "request = geminidataanalytics.ListConversationsRequest(\n",
        "    parent=f\"projects/{billing_project}/locations/global\",\n",
        ")\n",
        "\n",
        "# Make the request\n",
        "response = data_chat_client.list_conversations(request=request)\n",
        "\n",
        "# Handle the respe\n",
        "print(response)"
      ],
      "metadata": {
        "collapsed": true,
        "id": "ibniY5_vBDnd"
      },
      "execution_count": null,
      "outputs": []
    },
    {
      "cell_type": "code",
      "source": [
        "# @title List Messages\n",
        "\n",
        "conversation_id = \"conversation_bq_2006\" # @param {type:\"string\"}\n",
        "\n",
        "request = geminidataanalytics.ListMessagesRequest(\n",
        "    parent=f\"projects/{billing_project}/locations/global/conversations/{conversation_id}\",\n",
        ")\n",
        "\n",
        "# Make the request\n",
        "response = data_chat_client.list_messages(request=request)\n",
        "\n",
        "# Handle the response\n",
        "print(response)"
      ],
      "metadata": {
        "collapsed": true,
        "id": "xqeWlpaRB_66"
      },
      "execution_count": null,
      "outputs": []
    }
  ]
}