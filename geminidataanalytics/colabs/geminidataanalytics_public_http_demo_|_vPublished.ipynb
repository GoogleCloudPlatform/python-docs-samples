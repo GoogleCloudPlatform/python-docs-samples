{
  "nbformat": 4,
  "nbformat_minor": 0,
  "metadata": {
    "colab": {
      "provenance": [],
      "toc_visible": true,
      "include_colab_link": true
    },
    "kernelspec": {
      "name": "python3",
      "display_name": "Python 3"
    },
    "language_info": {
      "name": "python"
    }
  },
  "cells": [
    {
      "cell_type": "markdown",
      "metadata": {
        "id": "view-in-github",
        "colab_type": "text"
      },
      "source": [
        "<a href=\"https://colab.research.google.com/github/vermaAstra/python-docs-samples/blob/main/geminidataanalytics/colabs/geminidataanalytics_public_http_demo_%7C_vPublished.ipynb\" target=\"_parent\"><img src=\"https://colab.research.google.com/assets/colab-badge.svg\" alt=\"Open In Colab\"/></a>"
      ]
    },
    {
      "cell_type": "markdown",
      "source": [
        "# Copyright 2025 Google LLC.\n",
        "# SPDX-License-Identifier: Apache-2.0"
      ],
      "metadata": {
        "id": "Ce4e23QWJykZ"
      }
    },
    {
      "cell_type": "code",
      "source": [
        "# @title Licensed under the Apache License, Version 2.0 (the \"License\");\n",
        "# you may not use this file except in compliance with the License.\n",
        "# You may obtain a copy of the License at\n",
        "#\n",
        "# https://www.apache.org/licenses/LICENSE-2.0\n",
        "#\n",
        "# Unless required by applicable law or agreed to in writing, software\n",
        "# distributed under the License is distributed on an \"AS IS\" BASIS,\n",
        "# WITHOUT WARRANTIES OR CONDITIONS OF ANY KIND, either express or implied.\n",
        "# See the License for the specific language governing permissions and\n",
        "# limitations under the License."
      ],
      "metadata": {
        "id": "cfNFHkaMKA97"
      },
      "execution_count": null,
      "outputs": []
    },
    {
      "cell_type": "markdown",
      "source": [
        "# Background and Overview\n",
        "The **Conversational Analytics API** lets you chat with your BigQuery or Looker data anywhere, including embedded Looker dashboards, Slack and other chat apps, or even your own web applications. Your team members can get answers where they need them, when they need them, in the applications they use every day. You can find the [Colab example with the Python SDK here](https://colab.sandbox.google.com/drive/1UF1I4ZGU662R74vbNwk-wtmVWpQl107h?resourcekey=0-vQ8nXlhIpj87G65FbkjG8A#scrollTo=gBy8t2OiR73i).\n",
        "\n",
        "Please provide feedback to conversational-analytics-api-feedback@google.com\n",
        "<br>\n",
        "### This notebook will help you\n",
        "1. Authenticate to GCP\n",
        "2. Add data\n",
        "3. Perform agent operations (create, list, get, delete)\n",
        "4. Manage conversations (create, list, get)\n",
        "5. Ask questions with your agent\n"
      ],
      "metadata": {
        "id": "3Z7ymg4eGyeU"
      }
    },
    {
      "cell_type": "markdown",
      "source": [
        "## Disclaimers\n",
        "- Please **make a copy** of this notebook. **Do not edit it directly**\n",
        "- This is a **Pre-GA** product. See [documentation](https://cloud.google.com/gemini/docs/conversational-analytics-api/overview) for more details.\n",
        "- This product is currently under allowlist and not yet publicly available. Please contact your account team if you have questions."
      ],
      "metadata": {
        "id": "nolLuLExS0a3"
      }
    },
    {
      "cell_type": "markdown",
      "source": [
        "\n",
        "## API Enablement\n",
        "\n",
        "**Please fill in the billing_project form field with your own GCP project.  The project must have the following APIs enabled:**\n",
        "-  [cloudaicompanion API](https://console.cloud.google.com/apis/library/cloudaicompanion.googleapis.com)\n",
        "-  [Gemini Data Analytics API](https://console.cloud.google.com/apis/library/geminidataanalytics.googleapis.com)\n",
        "-  [BQ API](https://console.cloud.google.com/marketplace/product/google/bigquery.googleapis.com)\n",
        "-  [Dataform API](https://console.cloud.google.com/apis/library/dataform.googleapis.com)\n",
        "- [Vertex AI API](https://console.cloud.google.com/apis/library/aiplatform.googleapis.com)\n",
        "\n",
        "You may pass in any BigQuery project/dataset/table for which you have read permissions.\n"
      ],
      "metadata": {
        "id": "YGT_vK5nSrCB"
      }
    },
    {
      "cell_type": "markdown",
      "source": [
        "# Auth and Imports"
      ],
      "metadata": {
        "id": "DZz5XBuNSRb0"
      }
    },
    {
      "cell_type": "code",
      "source": [
        "from pygments import highlight, lexers, formatters\n",
        "import pandas as pd\n",
        "import json as json_lib\n",
        "import requests\n",
        "import json\n",
        "import altair as alt\n",
        "import IPython\n",
        "from IPython.display import display, HTML\n",
        "import requests\n",
        "import google.auth\n",
        "from google.auth.transport.requests import Request\n",
        "\n",
        "from google.colab import auth\n",
        "auth.authenticate_user()\n",
        "\n",
        "access_token = !gcloud auth application-default print-access-token\n",
        "headers = {\n",
        "    \"Authorization\": f\"Bearer {access_token[0]}\",\n",
        "    \"Content-Type\": \"application/json\",\n",
        "}"
      ],
      "metadata": {
        "id": "Skzx_KNaG3c-"
      },
      "execution_count": null,
      "outputs": []
    },
    {
      "cell_type": "markdown",
      "source": [
        "# Datasource and Billing project\n",
        "\n",
        "\n",
        "*   Define your builling project within GCP\n",
        "*   Link your agent to data sources (BigQuery, Looker, Looker Studio)\n",
        "\n"
      ],
      "metadata": {
        "id": "5nEg33LQ4AmH"
      }
    },
    {
      "cell_type": "code",
      "source": [
        "# @title Set Datasource and billing project\n",
        "\n",
        "billing_project = \"cloud-raspberry-e2e-testing\" # @param {type:\"string\"}\n",
        "\n",
        "location = \"global\"\n",
        "\n",
        "# provide critical context for your Conversational Analytics Agent here\n",
        "system_instruction = \"Think like an Analyst\"\n",
        "\n",
        "\n",
        "# BigQuery datasource\n",
        "bigquery_data_sources = {\n",
        "    \"bq\": {\n",
        "      \"tableReferences\": [\n",
        "        {\n",
        "          \"projectId\": \"bigquery-public-data\",\n",
        "          \"datasetId\": \"faa\",\n",
        "          \"tableId\": \"us_airports\"\n",
        "        }\n",
        "      ]\n",
        "    }\n",
        "}\n",
        "\n",
        "# Looker datasource\n",
        "# When connecting to the Lokker datasource, you can authenticate using either:\n",
        "# 1. client_id and client_secret\n",
        "# 2. access_token\n",
        "looker_credentials = {\n",
        "    \"oauth\": {\n",
        "        \"secret\": {\n",
        "          \"client_id\": \"Enter your Client ID Here\",\n",
        "          \"client_secret\": \"Enter your Client Secret Here\",\n",
        "        }\n",
        "    }\n",
        "}\n",
        "# Uncomment this and comment out the above one if you are using access_token for authentication\n",
        "# looker_credentials = {\n",
        "#     \"oauth\": {\n",
        "#         \"token\": {\n",
        "#           \"access_token\": \"your_looker_access_token\",\n",
        "#         }\n",
        "#     }\n",
        "# }\n",
        "looker_data_source = {\n",
        "    \"looker\": {\n",
        "      \"explore_references\": {\n",
        "          \"looker_instance_uri\": \"https://my_company.looker.com\",\n",
        "          \"lookml_model\": \"my_model\",\n",
        "          \"explore\": \"my_explore\",\n",
        "      },\n",
        "      # NOTE -\n",
        "      # 1. Do not pass looker credentials during create data agent.\n",
        "      # 2. Uncomment the below line only when running the method [Stateless Chat using inline context]\n",
        "      # \"credentials\": looker_credentials\n",
        "    }\n",
        "}\n",
        "\n",
        "\n",
        "\n",
        "# Looker Studio datasource\n",
        "looker_studio_data_source = {\n",
        "    \"studio\":{\n",
        "        \"studio_references\":\n",
        "         [\n",
        "            {\n",
        "              \"datasource_id\": \"your_studio_datasource_id\"\n",
        "            }\n",
        "         ]\n",
        "    }\n",
        "}\n"
      ],
      "metadata": {
        "id": "mf9erLbycpAF"
      },
      "execution_count": null,
      "outputs": []
    },
    {
      "cell_type": "code",
      "source": [
        "# @title Enviroment\n",
        "\n",
        "# ENVIRONMENT OPTIONS: prod, autopush, staging\n",
        "environment = \"prod\" # @param {type:\"string\"}\n",
        "\n",
        "base_url = \"https://geminidataanalytics.googleapis.com\"\n",
        "\n",
        "if (environment == \"autopush\"):\n",
        "  base_url = \"https://autopush-geminidataanalytics.sandbox.googleapis.com\"\n",
        "elif (environment == \"staging\"):\n",
        "  base_url = \"https://staging-geminidataanalytics.sandbox.googleapis.com\"\n",
        "else:\n",
        "  base_url = \"https://geminidataanalytics.googleapis.com\"\n"
      ],
      "metadata": {
        "id": "OE6bPKsyw_Jy"
      },
      "execution_count": null,
      "outputs": []
    },
    {
      "cell_type": "markdown",
      "source": [
        "#Data Agent Services"
      ],
      "metadata": {
        "id": "52oJ2poOfHCp"
      }
    },
    {
      "cell_type": "code",
      "source": [
        "# @title Create Data Agent\n",
        "\n",
        "data_agent_id = \"data_agent_bq_0907\" # @param {type:\"string\"}\n",
        "\n",
        "data_agent_url = f\"{base_url}/v1alpha/projects/{billing_project}/locations/{location}/dataAgents\"\n",
        "\n",
        "data_agent_payload = {\n",
        "      \"name\": f\"projects/{billing_project}/locations/{location}/dataAgents/{data_agent_id}\", #Optional\n",
        "      \"description\": \"This is the description of data_agent.\", #Optional\n",
        "\n",
        "      \"data_analytics_agent\": {\n",
        "          \"published_context\": {\n",
        "              \"datasource_references\": bigquery_data_sources,\n",
        "              \"system_instruction\": system_instruction,\n",
        "              \"options\": {\n",
        "                  \"analysis\": {\n",
        "                      # Optional - if wanting to use advanced analysis with python\n",
        "                      \"python\": {\n",
        "                          \"enabled\": True\n",
        "                      }\n",
        "                  }\n",
        "              }\n",
        "          }\n",
        "      }\n",
        "  }\n",
        "\n",
        "params = {\"data_agent_id\": data_agent_id} #Optional\n",
        "\n",
        "data_agent_response = requests.post(\n",
        "    data_agent_url, params=params, json=data_agent_payload, headers=headers\n",
        ")\n",
        "\n",
        "if data_agent_response.status_code == 200:\n",
        "    print(\"Data Agent created successfully!\")\n",
        "    print(json.dumps(data_agent_response.json(), indent=2))\n",
        "else:\n",
        "    print(f\"Error creating Data Agent: {data_agent_response.status_code}\")\n",
        "    print(data_agent_response.text)"
      ],
      "metadata": {
        "id": "RuYxbQSmjSeD"
      },
      "execution_count": null,
      "outputs": []
    },
    {
      "cell_type": "code",
      "source": [
        "# @title Get Data Agent\n",
        "\n",
        "data_agent_id = \"data_agent_bq_0907\" # @param {type:\"string\"}\n",
        "\n",
        "data_agent_url = f\"{base_url}/v1alpha/projects/{billing_project}/locations/{location}/dataAgents/{data_agent_id}\"\n",
        "\n",
        "data_agent_response = requests.get(\n",
        "    data_agent_url, headers=headers\n",
        ")\n",
        "\n",
        "if data_agent_response.status_code == 200:\n",
        "    print(\"Fetched Data Agent successfully!\")\n",
        "    print(json.dumps(data_agent_response.json(), indent=2))\n",
        "else:\n",
        "    print(f\"Error: {data_agent_response.status_code}\")\n",
        "    print(data_agent_response.text)\n"
      ],
      "metadata": {
        "id": "gKeVQqsGkyqT"
      },
      "execution_count": null,
      "outputs": []
    },
    {
      "cell_type": "code",
      "source": [
        "# @title List Data Agent\n",
        "\n",
        "data_agent_url = f\"{base_url}/v1alpha/projects/{billing_project}/locations/{location}/dataAgents\"\n",
        "\n",
        "data_agent_response = requests.get(\n",
        "    data_agent_url, headers=headers\n",
        ")\n",
        "\n",
        "if data_agent_response.status_code == 200:\n",
        "    print(\"Data Agent Listed successfully!\")\n",
        "    print(json.dumps(data_agent_response.json(), indent=2))\n",
        "else:\n",
        "    print(f\"Error Listing Data Agent: {data_agent_response.status_code}\")\n",
        "    print(data_agent_response.text)"
      ],
      "metadata": {
        "id": "VP2oNORjo4bc",
        "collapsed": true
      },
      "execution_count": null,
      "outputs": []
    },
    {
      "cell_type": "code",
      "source": [
        "# @title Update Data Agent\n",
        "\n",
        "data_agent_id = \"data_agent_bq_0907\" # @param {type:\"string\"}\n",
        "\n",
        "data_agent_url = f\"{base_url}/v1alpha/projects/{billing_project}/locations/{location}/dataAgents/{data_agent_id}\"\n",
        "\n",
        "payload = {\n",
        "    \"description\": \"This is the latest description of data_agent.\",\n",
        "    \"data_analytics_agent\": {\n",
        "        \"published_context\": {\n",
        "            \"datasource_references\": bigquery_data_sources,\n",
        "            \"system_instruction\": system_instruction\n",
        "        }\n",
        "    },\n",
        "}\n",
        "\n",
        "fields = [\"description\", \"data_analytics_agent\"]\n",
        "params = {\n",
        "    \"updateMask\": \",\".join(fields)\n",
        "}\n",
        "\n",
        "data_agent_response = response = requests.patch(\n",
        "    data_agent_url, headers=headers, params=params, json=payload\n",
        ")\n",
        "\n",
        "if data_agent_response.status_code == 200:\n",
        "    print(\"Data Agent updated successfully!\")\n",
        "    print(json.dumps(data_agent_response.json(), indent=2))\n",
        "else:\n",
        "    print(f\"Error Updating Data Agent: {data_agent_response.status_code}\")\n",
        "    print(data_agent_response.text)"
      ],
      "metadata": {
        "id": "-S7AIL1OeXnu",
        "collapsed": true
      },
      "execution_count": null,
      "outputs": []
    },
    {
      "cell_type": "code",
      "source": [
        "# @title Set IAM Policy for Data Agent\n",
        "\n",
        "\n",
        "''' PLEASE NOTE THIS API CALLS OVERRIDES EXISTING PERMISSION FOR THE RESOURCE.\n",
        "For preserving existing policy in practise call Get IAM policy to fetch existing policy and pass it along with additional changes\n",
        "in the call to Set IAM Policy\n",
        "'''\n",
        "data_agent_id = \"data_agent_bq_0807\" # @param {type:\"string\"}\n",
        "users = \"abc@google.com, xyx@google.com\" # @param {type:\"string\"}\n",
        "\n",
        "data_agent_url = f\"{base_url}/v1alpha/projects/{billing_project}/locations/{location}/dataAgents/{data_agent_id}:setIamPolicy\"\n",
        "\n",
        "\n",
        "# Request body\n",
        "payload = {\n",
        "    \"policy\": {\n",
        "        \"bindings\": [\n",
        "            {\n",
        "                \"role\": \"roles/geminidataanalytics.dataAgentEditor\",\n",
        "                \"members\": [\n",
        "                    f\"user:{i.strip()}\" for i in users.split(\",\")\n",
        "                ]\n",
        "            }\n",
        "        ]\n",
        "    }\n",
        "}\n",
        "\n",
        "data_agent_response = response = requests.post(\n",
        "    data_agent_url, headers=headers, json=payload\n",
        ")\n",
        "\n",
        "if data_agent_response.status_code == 200:\n",
        "    print(\"IAM Policy set successfully!\")\n",
        "    print(json.dumps(data_agent_response.json(), indent=2))\n",
        "else:\n",
        "    print(f\"Error setting IAM policy: {data_agent_response.status_code}\")\n",
        "    print(data_agent_response.text)"
      ],
      "metadata": {
        "id": "TjZfg2lVF8Jl"
      },
      "execution_count": null,
      "outputs": []
    },
    {
      "cell_type": "code",
      "source": [
        "# @title Get IAM Policy for Data Agent\n",
        "\n",
        "data_agent_id = \"data_agent_bq_0807\" # @param {type:\"string\"}\n",
        "\n",
        "data_agent_url = f\"{base_url}/v1alpha/projects/{billing_project}/locations/{location}/dataAgents/{data_agent_id}:getIamPolicy\"\n",
        "\n",
        "# Request body\n",
        "payload = {\n",
        "  \"resource\": f\"projects/{billing_project}/locations/{location}/dataAgents/data_agent_id\"\n",
        "}\n",
        "\n",
        "data_agent_response = response = requests.post(\n",
        "    data_agent_url, headers=headers, json=payload\n",
        ")\n",
        "\n",
        "if data_agent_response.status_code == 200:\n",
        "    print(\"IAM Policy fetched successfully!\")\n",
        "    print(json.dumps(data_agent_response.json(), indent=2))\n",
        "else:\n",
        "    print(f\"Error fetching IAM policy: {data_agent_response.status_code}\")\n",
        "    print(data_agent_response.text)"
      ],
      "metadata": {
        "id": "kHt_lhjh3LtS"
      },
      "execution_count": null,
      "outputs": []
    },
    {
      "cell_type": "code",
      "source": [
        "# @title [Soft Delete] Delete Data Agent\n",
        "\n",
        "data_agent_id = \"data_agent_bq_0807\" # @param {type:\"string\"}\n",
        "\n",
        "data_agent_url = f\"{base_url}/v1alpha/projects/{billing_project}/locations/{location}/dataAgents/{data_agent_id}\"\n",
        "\n",
        "data_agent_response = requests.delete(\n",
        "    data_agent_url, headers=headers\n",
        ")\n",
        "\n",
        "if data_agent_response.status_code == 200:\n",
        "    print(\"Data Agent deleted successfully!\")\n",
        "    print(json.dumps(data_agent_response.json(), indent=2))\n",
        "else:\n",
        "    print(f\"Error Deleting Data Agent: {data_agent_response.status_code}\")\n",
        "    print(data_agent_response.text)"
      ],
      "metadata": {
        "collapsed": true,
        "id": "y-wlEDnPrOvO"
      },
      "execution_count": null,
      "outputs": []
    },
    {
      "cell_type": "markdown",
      "source": [
        "# Data Chat Service"
      ],
      "metadata": {
        "id": "KHQUswQMHkcU"
      }
    },
    {
      "cell_type": "code",
      "source": [
        "# @title Create Conversation\n",
        "\n",
        "data_agent_id = \"data_agent_bq_0907\" # @param {type:\"string\"}\n",
        "conversation_id = \"conversation_bq_0907\" # @param {type:\"string\"}\n",
        "\n",
        "conversation_url = f\"{base_url}/v1alpha/projects/{billing_project}/locations/{location}/conversations\"\n",
        "\n",
        "conversation_payload = {\n",
        "    \"agents\": [\n",
        "        f\"projects/{billing_project}/locations/{location}/dataAgents/{data_agent_id}\"\n",
        "    ],\n",
        "    \"name\": f\"projects/{billing_project}/locations/{location}/conversations/{conversation_id}\"\n",
        "}\n",
        "params = {\n",
        "    \"conversation_id\": conversation_id\n",
        "}\n",
        "\n",
        "conversation_response = requests.post(conversation_url, headers=headers, params=params, json=conversation_payload)\n",
        "\n",
        "if conversation_response.status_code == 200:\n",
        "    print(\"Conversation created successfully!\")\n",
        "    print(json.dumps(conversation_response.json(), indent=2))\n",
        "else:\n",
        "    print(f\"Error creating Conversation: {conversation_response.status_code}\")\n",
        "    print(conversation_response.text)"
      ],
      "metadata": {
        "id": "c9aCGQAYCMx1",
        "collapsed": true
      },
      "execution_count": null,
      "outputs": []
    },
    {
      "cell_type": "code",
      "source": [
        "# @title Get Conversation\n",
        "\n",
        "conversation_id = \"conversation_bq_0907\" # @param {type:\"string\"}\n",
        "\n",
        "conversation_url = f\"{base_url}/v1alpha/projects/{billing_project}/locations/{location}/conversations/{conversation_id}\"\n",
        "\n",
        "conversation_response = requests.get(conversation_url, headers=headers)\n",
        "\n",
        "# Handle the response\n",
        "if conversation_response.status_code == 200:\n",
        "    print(\"Conversation fetched successfully!\")\n",
        "    print(json.dumps(conversation_response.json(), indent=2))\n",
        "else:\n",
        "    print(f\"Error while fetching conversation: {conversation_response.status_code}\")\n",
        "    print(conversation_response.text)\n"
      ],
      "metadata": {
        "id": "RxxC3Er3HpIR",
        "cellView": "form"
      },
      "execution_count": null,
      "outputs": []
    },
    {
      "cell_type": "code",
      "source": [
        "# @title List Conversation\n",
        "\n",
        "conversation_url = f\"{base_url}/v1alpha/projects/{billing_project}/locations/{location}/conversations\"\n",
        "\n",
        "\n",
        "conversation_response = requests.get(conversation_url, headers=headers)\n",
        "\n",
        "# Handle the response\n",
        "if conversation_response.status_code == 200:\n",
        "    print(\"Conversation fetched successfully!\")\n",
        "    print(json.dumps(conversation_response.json(), indent=2))\n",
        "else:\n",
        "    print(f\"Error while fetching conversation: {conversation_response.status_code}\")\n",
        "    print(conversation_response.text)"
      ],
      "metadata": {
        "collapsed": true,
        "id": "3-3otk_aL6Wi",
        "cellView": "form"
      },
      "execution_count": null,
      "outputs": []
    },
    {
      "cell_type": "code",
      "source": [
        "# @title Streaming Chat Messages\n",
        "\n",
        "def is_json(str):\n",
        " try:\n",
        "     json_object = json_lib.loads(str)\n",
        " except ValueError as e:\n",
        "     return False\n",
        " return True\n",
        "\n",
        "def handle_text_response(resp):\n",
        " parts = resp['parts']\n",
        " print(''.join(parts))\n",
        "\n",
        "def get_property(data, field_name, default = ''):\n",
        " return data[field_name] if field_name in data else default\n",
        "\n",
        "def display_schema(data):\n",
        " fields = data['fields']\n",
        " df = pd.DataFrame({\n",
        "   \"Column\": map(lambda field: get_property(field, 'name'), fields),\n",
        "   \"Type\": map(lambda field: get_property(field, 'type'), fields),\n",
        "   \"Description\": map(lambda field: get_property(field, 'description', '-'), fields),\n",
        "   \"Mode\": map(lambda field: get_property(field, 'mode'), fields)\n",
        " })\n",
        " display(df)\n",
        "\n",
        "def display_section_title(text):\n",
        " display(HTML('<h2>{}</h2>'.format(text)))\n",
        "\n",
        "def format_bq_table_ref(table_ref):\n",
        " return '{}.{}.{}'.format(table_ref['projectId'], table_ref['datasetId'], table_ref['tableId'])\n",
        "\n",
        "def format_looker_table_ref(table_ref):\n",
        " return 'lookmlModel: {}, explore: {}, lookerInstanceUri: {}'.format(table_ref['lookmlModel'], table_ref['explore'], table_ref['lookerInstanceUri'])\n",
        "\n",
        "def display_datasource(datasource):\n",
        " source_name = ''\n",
        "\n",
        " if 'studioDatasourceId' in datasource:\n",
        "   source_name = datasource['studioDatasourceId']\n",
        " elif 'lookerExploreReference' in datasource:\n",
        "   source_name = format_looker_table_ref(datasource['lookerExploreReference'])\n",
        " else:\n",
        "   source_name = format_bq_table_ref(datasource['bigqueryTableReference'])\n",
        "\n",
        " print(source_name)\n",
        " display_schema(datasource['schema'])\n",
        "\n",
        "def handle_schema_response(resp):\n",
        " if 'query' in resp:\n",
        "   print(resp['query']['question'])\n",
        " elif 'result' in resp:\n",
        "   display_section_title('Schema resolved')\n",
        "   print('Data sources:')\n",
        "   for datasource in resp['result']['datasources']:\n",
        "     display_datasource(datasource)\n",
        "\n",
        "def handle_data_response(resp):\n",
        " if 'query' in resp:\n",
        "   query = resp['query']\n",
        "   display_section_title('Retrieval query')\n",
        "   print('Query name: {}'.format(query['name']))\n",
        "   print('Question: {}'.format(query['question']))\n",
        "   print('Data sources:')\n",
        "   for datasource in query['datasources']:\n",
        "     display_datasource(datasource)\n",
        " elif 'generatedSql' in resp:\n",
        "   display_section_title('SQL generated')\n",
        "   print(resp['generatedSql'])\n",
        " elif 'result' in resp:\n",
        "   display_section_title('Data retrieved')\n",
        "\n",
        "   fields = map(lambda field: get_property(field, 'name'), resp['result']['schema']['fields'])\n",
        "   dict = {}\n",
        "\n",
        "   for field in fields:\n",
        "     dict[field] = map(lambda el: get_property(el, field), resp['result']['data'])\n",
        "\n",
        "   display(pd.DataFrame(dict))\n",
        "\n",
        "def handle_chart_response(resp):\n",
        " if 'query' in resp:\n",
        "   print(resp['query']['instructions'])\n",
        " elif 'result' in resp:\n",
        "   vegaConfig = resp['result']['vegaConfig']\n",
        "   alt.Chart.from_json(json_lib.dumps(vegaConfig)).display();\n",
        "\n",
        "def handle_error(resp):\n",
        " display_section_title('Error')\n",
        " print('Code: {}'.format(resp['code']))\n",
        " print('Message: {}'.format(resp['message']))\n",
        "\n",
        "def get_stream(url, json):\n",
        " s = requests.Session()\n",
        "\n",
        " acc = ''\n",
        "\n",
        " with s.post(url, json=json, headers=headers, stream=True) as resp:\n",
        "   for line in resp.iter_lines():\n",
        "     if not line:\n",
        "       continue\n",
        "\n",
        "     decoded_line = str(line, encoding='utf-8')\n",
        "\n",
        "     if decoded_line == '[{':\n",
        "       acc = '{'\n",
        "     elif decoded_line == '}]':\n",
        "       acc += '}'\n",
        "     elif decoded_line == ',':\n",
        "       continue\n",
        "     else:\n",
        "       acc += decoded_line\n",
        "\n",
        "     if not is_json(acc):\n",
        "       continue\n",
        "\n",
        "     data_json = json_lib.loads(acc)\n",
        "\n",
        "     if not 'systemMessage' in data_json:\n",
        "       if 'error' in data_json:\n",
        "         handle_error(data_json['error'])\n",
        "       continue\n",
        "\n",
        "     if 'text' in data_json['systemMessage']:\n",
        "       handle_text_response(data_json['systemMessage']['text'])\n",
        "     elif 'schema' in data_json['systemMessage']:\n",
        "       handle_schema_response(data_json['systemMessage']['schema'])\n",
        "     elif 'data' in data_json['systemMessage']:\n",
        "       handle_data_response(data_json['systemMessage']['data'])\n",
        "     elif 'chart' in data_json['systemMessage']:\n",
        "       handle_chart_response(data_json['systemMessage']['chart'])\n",
        "     else:\n",
        "       colored_json = highlight(acc, lexers.JsonLexer(), formatters.TerminalFormatter())\n",
        "       print(colored_json)\n",
        "     print('\\n')\n",
        "     acc = ''\n"
      ],
      "metadata": {
        "id": "1koXYj2eD8jW",
        "cellView": "form"
      },
      "execution_count": null,
      "outputs": []
    },
    {
      "cell_type": "code",
      "source": [
        "# @title [Stateful] Chat using Conversation\n",
        "\n",
        "data_agent_id = \"data_agent_bq_0907\" # @param {type:\"string\"}\n",
        "conversation_id = \"conversation_bq_0907\" # @param {type:\"string\"}\n",
        "\n",
        "chat_url = f\"{base_url}/v1alpha/projects/{billing_project}/locations/{location}:chat\"\n",
        "\n",
        "# Construct the payload\n",
        "chat_payload = {\n",
        "    \"parent\": f\"projects/{billing_project}/locations/global\",\n",
        "    \"messages\": [\n",
        "        {\n",
        "            \"userMessage\": {\n",
        "                \"text\": \"Make a bar graph for the top 5 states by the total number of airports\"\n",
        "            }\n",
        "        }\n",
        "    ],\n",
        "    \"conversation_reference\": {\n",
        "        \"conversation\": f\"projects/{billing_project}/locations/{location}/conversations/{conversation_id}\",\n",
        "        \"data_agent_context\": {\n",
        "            \"data_agent\": f\"projects/{billing_project}/locations/{location}/dataAgents/{data_agent_id}\",\n",
        "            # \"credentials\": looker_credentials #Uncomment this if your dataAgent contains looker as dataSource\n",
        "        }\n",
        "    }\n",
        "}\n",
        "\n",
        "# Call get_stream method to stream the response\n",
        "get_stream(chat_url, chat_payload)\n"
      ],
      "metadata": {
        "id": "mQ1G8_UnKQjT",
        "collapsed": true
      },
      "execution_count": null,
      "outputs": []
    },
    {
      "cell_type": "code",
      "source": [
        "# @title [Stateless] Chat using Data Agent\n",
        "\n",
        "data_agent_id = \"data_agent_bq_0907\" # @param {type:\"string\"}\n",
        "\n",
        "chat_url = f\"{base_url}/v1alpha/projects/{billing_project}/locations/{location}:chat\"\n",
        "\n",
        "# Construct the payload\n",
        "chat_payload = {\n",
        "    \"parent\": f\"projects/{billing_project}/locations/global\",\n",
        "    \"messages\": [\n",
        "        {\n",
        "            \"userMessage\": {\n",
        "                \"text\": \"Make a bar graph for the top 5 states by the total number of airports\"\n",
        "            }\n",
        "        }\n",
        "    ],\n",
        "    \"data_agent_context\": {\n",
        "        \"data_agent\": f\"projects/{billing_project}/locations/{location}/dataAgents/{data_agent_id}\",\n",
        "        # \"credentials\": looker_credentials #Uncomment this if your dataAgent contains looker as dataSource\n",
        "    }\n",
        "}\n",
        "\n",
        "# Call get_stream method to stream the response\n",
        "get_stream(chat_url, chat_payload)\n"
      ],
      "metadata": {
        "id": "p0vGFMmzI8BH",
        "collapsed": true
      },
      "execution_count": null,
      "outputs": []
    },
    {
      "cell_type": "code",
      "source": [
        "# @title [Stateless] Chat using Inline Context\n",
        "\n",
        "chat_url = f\"{base_url}/v1alpha/projects/{billing_project}/locations/global:chat\"\n",
        "\n",
        "# Construct the payload\n",
        "chat_payload = {\n",
        "    \"parent\": f\"projects/{billing_project}/locations/global\",\n",
        "    \"messages\": [\n",
        "        {\n",
        "            \"userMessage\": {\n",
        "                \"text\": \"Show the schema of datasource\"\n",
        "            }\n",
        "        }\n",
        "    ],\n",
        "    \"inline_context\": {\n",
        "        \"datasource_references\": bigquery_data_sources,\n",
        "        \"options\": {\n",
        "            \"analysis\": {\n",
        "                # Optional - if wanting to use advanced analysis with python\n",
        "                \"python\": {\n",
        "                    \"enabled\": True\n",
        "                }\n",
        "            }\n",
        "        }\n",
        "    }\n",
        "}\n",
        "\n",
        "# Call get_stream method to stream the response\n",
        "get_stream(chat_url, chat_payload)\n"
      ],
      "metadata": {
        "id": "-S5ccMveLG3f",
        "collapsed": true,
        "cellView": "form"
      },
      "execution_count": null,
      "outputs": []
    },
    {
      "cell_type": "code",
      "source": [
        "# @title List Messages\n",
        "\n",
        "conversation_id = \"conversation_bq_0807\" # @param {type:\"string\"}\n",
        "\n",
        "conversation_url = f\"{base_url}/v1alpha/projects/{billing_project}/locations/{location}/conversations/{conversation_id}/messages\"\n",
        "\n",
        "conversation_response = requests.get(conversation_url, headers=headers)\n",
        "\n",
        "# Handle the response\n",
        "if conversation_response.status_code == 200:\n",
        "    print(\"Conversation fetched successfully!\")\n",
        "    print(json.dumps(conversation_response.json(), indent=2))\n",
        "else:\n",
        "    print(f\"Error while fetching conversation: {conversation_response.status_code}\")\n",
        "    print(conversation_response.text)\n"
      ],
      "metadata": {
        "id": "Ioj6gG8wMedz",
        "collapsed": true
      },
      "execution_count": null,
      "outputs": []
    },
    {
      "cell_type": "markdown",
      "source": [
        "## Stateless Multi-turn Conversation"
      ],
      "metadata": {
        "id": "wdhjfwM3tF4G"
      }
    },
    {
      "cell_type": "code",
      "source": [
        "# @title get_stream function for multi-turn conversation\n",
        "\n",
        "# NOTE: This methods is same as get_stream() method present in Streaming Chat Messages section.\n",
        "# The only difference is that - here we are storing the response in an array \"conversation_messages\" to save the conversation.\n",
        "\n",
        "\n",
        "def get_stream_multi_turn(url, json, conversation_messages):\n",
        " s = requests.Session()\n",
        "\n",
        " acc = ''\n",
        "\n",
        " with s.post(url, json=json, headers=headers, stream=True) as resp:\n",
        "   for line in resp.iter_lines():\n",
        "     if not line:\n",
        "       continue\n",
        "\n",
        "     decoded_line = str(line, encoding='utf-8')\n",
        "\n",
        "     if decoded_line == '[{':\n",
        "       acc = '{'\n",
        "     elif decoded_line == '}]':\n",
        "       acc += '}'\n",
        "     elif decoded_line == ',':\n",
        "       continue\n",
        "     else:\n",
        "       acc += decoded_line\n",
        "\n",
        "     if not is_json(acc):\n",
        "       continue\n",
        "\n",
        "     data_json = json_lib.loads(acc)\n",
        "     # Store the response to be used in next iteration.\n",
        "     conversation_messages.append(data_json)\n",
        "\n",
        "     if not 'systemMessage' in data_json:\n",
        "       if 'error' in data_json:\n",
        "         handle_error(data_json['error'])\n",
        "       continue\n",
        "\n",
        "     if 'text' in data_json['systemMessage']:\n",
        "       handle_text_response(data_json['systemMessage']['text'])\n",
        "     elif 'schema' in data_json['systemMessage']:\n",
        "       handle_schema_response(data_json['systemMessage']['schema'])\n",
        "     elif 'data' in data_json['systemMessage']:\n",
        "       handle_data_response(data_json['systemMessage']['data'])\n",
        "     elif 'chart' in data_json['systemMessage']:\n",
        "       handle_chart_response(data_json['systemMessage']['chart'])\n",
        "     else:\n",
        "       colored_json = highlight(acc, lexers.JsonLexer(), formatters.TerminalFormatter())\n",
        "       print(colored_json)\n",
        "     print('\\n')\n",
        "     acc = ''\n"
      ],
      "metadata": {
        "id": "Lr3vhcG5tNjm",
        "cellView": "form"
      },
      "execution_count": null,
      "outputs": []
    },
    {
      "cell_type": "code",
      "source": [
        "# @title Multi-turn Conversation helper function\n",
        "\n",
        "chat_url = f\"{base_url}/v1alpha/projects/{billing_project}/locations/global:chat\"\n",
        "\n",
        "# Re-used across requests to track previous turns\n",
        "conversation_messages = []\n",
        "\n",
        "data_agent_id = \"data_agent_bq_0807\" # @param {type:\"string\"}\n",
        "\n",
        "# Helper function for calling the API\n",
        "def multi_turn_conversation(msg):\n",
        "\n",
        "  userMessage = {\n",
        "      \"userMessage\": {\n",
        "          \"text\": msg\n",
        "      }\n",
        "  }\n",
        "\n",
        "  # Send multi-turn request by including previous turns, plus new message\n",
        "  conversation_messages.append(userMessage)\n",
        "\n",
        "  # Construct the payload\n",
        "  chat_payload = {\n",
        "      \"parent\": f\"projects/{billing_project}/locations/global\",\n",
        "      \"messages\": conversation_messages,\n",
        "      \"data_agent_context\": {\n",
        "          \"data_agent\": f\"projects/{billing_project}/locations/{location}/dataAgents/{data_agent_id}\",\n",
        "          # \"credentials\": looker_credentials # Uncomment this if your dataAgent contains looker as dataSource\n",
        "      }\n",
        "\n",
        "      # uncomment the lines below when using chat with inline_context\n",
        "      # \"inline_context\": {\n",
        "      #     \"datasource_references\": bigquery_data_sources,\n",
        "      # }\n",
        "  }\n",
        "\n",
        "  # Call get_stream_multi_turn method to stream the response\n",
        "  get_stream_multi_turn(chat_url, chat_payload, conversation_messages)\n"
      ],
      "metadata": {
        "id": "In8Gtf_Yte_i"
      },
      "execution_count": null,
      "outputs": []
    },
    {
      "cell_type": "code",
      "source": [
        "# Send first-turn request\n",
        "multi_turn_conversation(\"List of the top 5 states by the total number of airports\")"
      ],
      "metadata": {
        "id": "M_8Lvo68thp4",
        "collapsed": true
      },
      "execution_count": null,
      "outputs": []
    },
    {
      "cell_type": "code",
      "source": [
        "# Send follow-up-turn request\n",
        "multi_turn_conversation(\"Can you please make it a pie chart?\")"
      ],
      "metadata": {
        "id": "RFSy-DNTtjf7",
        "collapsed": true
      },
      "execution_count": null,
      "outputs": []
    }
  ]
}